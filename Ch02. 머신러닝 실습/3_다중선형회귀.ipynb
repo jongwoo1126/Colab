{
  "nbformat": 4,
  "nbformat_minor": 0,
  "metadata": {
    "colab": {
      "name": "3.다중선형회귀.ipynb",
      "provenance": [],
      "collapsed_sections": [],
      "authorship_tag": "ABX9TyN7FUGL+WQSllJ/fCrFMEOC",
      "include_colab_link": true
    },
    "kernelspec": {
      "name": "python3",
      "display_name": "Python 3"
    },
    "language_info": {
      "name": "python"
    }
  },
  "cells": [
    {
      "cell_type": "markdown",
      "metadata": {
        "id": "view-in-github",
        "colab_type": "text"
      },
      "source": [
        "<a href=\"https://colab.research.google.com/github/jongwoo1126/Colab/blob/master/Ch02.%20%EB%A8%B8%EC%8B%A0%EB%9F%AC%EB%8B%9D%20%EC%8B%A4%EC%8A%B5/3_%EB%8B%A4%EC%A4%91%EC%84%A0%ED%98%95%ED%9A%8C%EA%B7%80.ipynb\" target=\"_parent\"><img src=\"https://colab.research.google.com/assets/colab-badge.svg\" alt=\"Open In Colab\"/></a>"
      ]
    },
    {
      "cell_type": "code",
      "execution_count": 2,
      "metadata": {
        "id": "3-Ce6T6Fk8Nf"
      },
      "outputs": [],
      "source": [
        "\"\"\"\n",
        "날짜 : 2022/05/02\n",
        "이름 : 박종우\n",
        "내용 : 다중 선형회귀분석 실습 \n",
        "\"\"\"\n",
        "from sklearn.linear_model import LinearRegression"
      ]
    },
    {
      "cell_type": "code",
      "source": [
        "# 학습 데이터, 라벨 준비\n",
        "train_data = [[170, 27], [155, 25], [150, 34], [175, 51], [165, 47]]\n",
        "train_label = [65, 50, 45, 70, 55]"
      ],
      "metadata": {
        "id": "d6Gvd4dwlNUs"
      },
      "execution_count": 4,
      "outputs": []
    },
    {
      "cell_type": "code",
      "source": [
        "# 학습하기 \n",
        "model = LinearRegression()\n",
        "model.fit(train_data, train_label)"
      ],
      "metadata": {
        "colab": {
          "base_uri": "https://localhost:8080/"
        },
        "id": "YSj1t9F1lVnz",
        "outputId": "bdd740c1-8b99-402b-84e0-283ec2ef1ff9"
      },
      "execution_count": 7,
      "outputs": [
        {
          "output_type": "execute_result",
          "data": {
            "text/plain": [
              "LinearRegression()"
            ]
          },
          "metadata": {},
          "execution_count": 7
        }
      ]
    },
    {
      "cell_type": "code",
      "source": [
        "# 테스트하기\n",
        "test_data = [[160, 45], [172, 21], [178, 39], [154, 17], [186, 53]]\n",
        "result = model.predict(test_data)\n",
        "result"
      ],
      "metadata": {
        "colab": {
          "base_uri": "https://localhost:8080/"
        },
        "id": "wOjjuS7BmD0k",
        "outputId": "1d25d132-284b-42d4-fb9e-5b388d15eb0d"
      },
      "execution_count": 9,
      "outputs": [
        {
          "output_type": "execute_result",
          "data": {
            "text/plain": [
              "array([52.94563163, 68.17040267, 72.39857537, 49.84552987, 79.16420991])"
            ]
          },
          "metadata": {},
          "execution_count": 9
        }
      ]
    },
    {
      "cell_type": "code",
      "source": [
        "###########################################################################\n",
        "# 연습문제\n",
        "# 학습 데이터, 라벨 준비\n",
        "train_data = [[170, 27, 1], [155, 25, 2], [150, 34, 2], [175, 51, 1], [165, 47, 1]]\n",
        "train_label = [65, 50, 45, 70, 55]"
      ],
      "metadata": {
        "id": "Iv7yVy-Tmays"
      },
      "execution_count": 11,
      "outputs": []
    },
    {
      "cell_type": "code",
      "source": [
        "model = LinearRegression()\n",
        "model.fit(train_data, train_label)"
      ],
      "metadata": {
        "colab": {
          "base_uri": "https://localhost:8080/"
        },
        "id": "3dLIqtBRm4ej",
        "outputId": "a0095379-40c6-4054-fbac-86d40d1b5624"
      },
      "execution_count": 13,
      "outputs": [
        {
          "output_type": "execute_result",
          "data": {
            "text/plain": [
              "LinearRegression()"
            ]
          },
          "metadata": {},
          "execution_count": 13
        }
      ]
    },
    {
      "cell_type": "code",
      "source": [
        "# 테스트하기\n",
        "test_data = [[180, 27, 1]]\n",
        "result = model.predict(test_data)\n",
        "result"
      ],
      "metadata": {
        "colab": {
          "base_uri": "https://localhost:8080/"
        },
        "id": "j-lHxLVpm-Db",
        "outputId": "d81c3b73-eaff-4019-d90d-3092e1093dff"
      },
      "execution_count": 15,
      "outputs": [
        {
          "output_type": "execute_result",
          "data": {
            "text/plain": [
              "array([78.3201581])"
            ]
          },
          "metadata": {},
          "execution_count": 15
        }
      ]
    },
    {
      "cell_type": "code",
      "source": [
        ""
      ],
      "metadata": {
        "id": "Bs0s_0kVnJfj"
      },
      "execution_count": null,
      "outputs": []
    }
  ]
}