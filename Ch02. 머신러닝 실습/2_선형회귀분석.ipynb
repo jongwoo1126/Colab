{
  "nbformat": 4,
  "nbformat_minor": 0,
  "metadata": {
    "colab": {
      "name": "2.선형회귀분석.ipynb",
      "provenance": [],
      "collapsed_sections": [],
      "authorship_tag": "ABX9TyNl5bbp8xs+2KdLKKZCM9kx",
      "include_colab_link": true
    },
    "kernelspec": {
      "name": "python3",
      "display_name": "Python 3"
    },
    "language_info": {
      "name": "python"
    }
  },
  "cells": [
    {
      "cell_type": "markdown",
      "metadata": {
        "id": "view-in-github",
        "colab_type": "text"
      },
      "source": [
        "<a href=\"https://colab.research.google.com/github/jongwoo1126/Colab/blob/master/Ch02.%20%EB%A8%B8%EC%8B%A0%EB%9F%AC%EB%8B%9D%20%EC%8B%A4%EC%8A%B5/2_%EC%84%A0%ED%98%95%ED%9A%8C%EA%B7%80%EB%B6%84%EC%84%9D.ipynb\" target=\"_parent\"><img src=\"https://colab.research.google.com/assets/colab-badge.svg\" alt=\"Open In Colab\"/></a>"
      ]
    },
    {
      "cell_type": "code",
      "execution_count": 1,
      "metadata": {
        "id": "lW2CgWOpgFXn"
      },
      "outputs": [],
      "source": [
        "\"\"\"\n",
        "날짜 : 2022/05/02\n",
        "이름 : 박종우\n",
        "내용 : 선형회귀분석 실습\n",
        "\"\"\"\n",
        "from scipy import stats\n",
        "from sklearn.linear_model import LinearRegression"
      ]
    },
    {
      "cell_type": "code",
      "source": [
        "# 학습 데이터\n",
        "x_data = [170, 155, 150, 175, 165]\n",
        "y_data = [65, 50, 45, 70, 55]\n",
        "\n",
        "# 기울기,절편 확인\n",
        "slope, intercept, r, p, std = stats.linregress(x_data, y_data)\n",
        "print('기울기 : ', slope)\n",
        "print('절편 : ', intercept)"
      ],
      "metadata": {
        "colab": {
          "base_uri": "https://localhost:8080/"
        },
        "id": "IcAAHQMLgifd",
        "outputId": "e52162de-073e-4aff-de48-0bbf714ac751"
      },
      "execution_count": 2,
      "outputs": [
        {
          "output_type": "stream",
          "name": "stdout",
          "text": [
            "기울기 :  0.9767441860465116\n",
            "절편 :  -102.20930232558138\n"
          ]
        }
      ]
    },
    {
      "cell_type": "code",
      "source": [
        " # 학습모델 정의\n",
        " def model(x):\n",
        "   y = 0.9767441860465116 * x - 102.20930232558138\n",
        "   return y"
      ],
      "metadata": {
        "id": "g5589iXthH8m"
      },
      "execution_count": 3,
      "outputs": []
    },
    {
      "cell_type": "code",
      "source": [
        "# 테스트하기\n",
        "test_data = [160, 172, 178, 154, 186]\n",
        "\n",
        "for i in test_data:\n",
        "  y = model(i)\n",
        "  print(y, end=' ')\n"
      ],
      "metadata": {
        "colab": {
          "base_uri": "https://localhost:8080/"
        },
        "id": "OlLUJmQHhjKV",
        "outputId": "82345ab4-4cb2-4524-887b-dd2f1eb42c1e"
      },
      "execution_count": 6,
      "outputs": [
        {
          "output_type": "stream",
          "name": "stdout",
          "text": [
            "54.06976744186048 65.79069767441862 71.6511627906977 48.209302325581405 79.46511627906978 "
          ]
        }
      ]
    },
    {
      "cell_type": "code",
      "source": [
        "# 선형회귀 알고리즘을 이용한 머신러닝\n",
        "\n",
        "# 학습 데이터, 라벨 준비\n",
        "train_data = [[170], [155], [150], [175], [165]]\n",
        "train_label = [65, 50, 45, 70, 55]"
      ],
      "metadata": {
        "id": "r9_pLVNpiFc9"
      },
      "execution_count": 7,
      "outputs": []
    },
    {
      "cell_type": "code",
      "source": [
        "# 학습하기\n",
        "model = LinearRegression()\n",
        "model.fit(train_data, train_label)"
      ],
      "metadata": {
        "colab": {
          "base_uri": "https://localhost:8080/"
        },
        "id": "HmbJrsNWi6k1",
        "outputId": "8d31a6dc-a307-46a4-b44f-610352f6f90b"
      },
      "execution_count": 10,
      "outputs": [
        {
          "output_type": "execute_result",
          "data": {
            "text/plain": [
              "LinearRegression()"
            ]
          },
          "metadata": {},
          "execution_count": 10
        }
      ]
    },
    {
      "cell_type": "code",
      "source": [
        "test_data = [[160], [172], [178], [154], [186]]\n",
        "result = model.predict(test_data)\n",
        "result"
      ],
      "metadata": {
        "colab": {
          "base_uri": "https://localhost:8080/"
        },
        "id": "FjvG0FK3jIs0",
        "outputId": "ee48c833-2047-4d68-82c3-da78ee467cf4"
      },
      "execution_count": 11,
      "outputs": [
        {
          "output_type": "execute_result",
          "data": {
            "text/plain": [
              "array([54.06976744, 65.79069767, 71.65116279, 48.20930233, 79.46511628])"
            ]
          },
          "metadata": {},
          "execution_count": 11
        }
      ]
    },
    {
      "cell_type": "markdown",
      "source": [
        ""
      ],
      "metadata": {
        "id": "dEbf5rJ2j1Ys"
      }
    }
  ]
}