{
  "nbformat": 4,
  "nbformat_minor": 0,
  "metadata": {
    "colab": {
      "name": "Numpy 연습문제.ipynb",
      "provenance": [],
      "collapsed_sections": [],
      "authorship_tag": "ABX9TyPG0OoSC9QTM8BVub2qp73n",
      "include_colab_link": true
    },
    "kernelspec": {
      "name": "python3",
      "display_name": "Python 3"
    },
    "language_info": {
      "name": "python"
    }
  },
  "cells": [
    {
      "cell_type": "markdown",
      "metadata": {
        "id": "view-in-github",
        "colab_type": "text"
      },
      "source": [
        "<a href=\"https://colab.research.google.com/github/jongwoo1126/Colab/blob/master/Ch01.%20%ED%8C%8C%EC%9D%B4%EC%8D%AC%20%EB%8D%B0%EC%9D%B4%ED%84%B0%20%EB%B6%84%EC%84%9D%20%EA%B8%B0%EC%B4%88.Numpy_%EC%97%B0%EC%8A%B5%EB%AC%B8%EC%A0%9C.ipynb\" target=\"_parent\"><img src=\"https://colab.research.google.com/assets/colab-badge.svg\" alt=\"Open In Colab\"/></a>"
      ]
    },
    {
      "cell_type": "code",
      "execution_count": 1,
      "metadata": {
        "id": "bKn1cuadF8Zg"
      },
      "outputs": [],
      "source": [
        "\"\"\"\n",
        "날짜 : 2022/04/28\n",
        "이름 : 박종우\n",
        "내용 : numpy 연습문제1\n",
        "\"\"\"\n",
        "import numpy as np"
      ]
    },
    {
      "cell_type": "code",
      "source": [
        "#01 파이썬 리스트 연산\n",
        "list1 = [1, 2]\n",
        "list2 = [3, 4]\n",
        "print(list1 + list2)"
      ],
      "metadata": {
        "colab": {
          "base_uri": "https://localhost:8080/"
        },
        "id": "kuhWYOknGZ5U",
        "outputId": "909e9c11-9225-4616-da13-06d4ec438d09"
      },
      "execution_count": 2,
      "outputs": [
        {
          "output_type": "stream",
          "name": "stdout",
          "text": [
            "[1, 2, 3, 4]\n"
          ]
        }
      ]
    },
    {
      "cell_type": "code",
      "source": [
        "#02 넘파이 리스트(벡터) 연산\n",
        "list1 = np.array([1,2])\n",
        "list2 = np.array([3,4])\n",
        "print(list1 + list2)"
      ],
      "metadata": {
        "colab": {
          "base_uri": "https://localhost:8080/"
        },
        "id": "WKfrb9ESGjuc",
        "outputId": "6096cb91-7609-4307-c0ca-43e07b35b3ce"
      },
      "execution_count": 3,
      "outputs": [
        {
          "output_type": "stream",
          "name": "stdout",
          "text": [
            "[4 6]\n"
          ]
        }
      ]
    },
    {
      "cell_type": "code",
      "source": [
        "#03 0 벡터 생성 #1\n",
        "z = np.zeros(10)\n",
        "print(z)"
      ],
      "metadata": {
        "colab": {
          "base_uri": "https://localhost:8080/"
        },
        "id": "99XPD8kAGvQT",
        "outputId": "5393ef70-550c-4e47-bcf6-98681ea0e329"
      },
      "execution_count": 4,
      "outputs": [
        {
          "output_type": "stream",
          "name": "stdout",
          "text": [
            "[0. 0. 0. 0. 0. 0. 0. 0. 0. 0.]\n"
          ]
        }
      ]
    },
    {
      "cell_type": "code",
      "source": [
        "#04 0 벡터  생성 #2\n",
        "z = np.zeros(10)\n",
        "z[4] = 1\n",
        "print(z)"
      ],
      "metadata": {
        "colab": {
          "base_uri": "https://localhost:8080/"
        },
        "id": "MNX9nsMfG2w7",
        "outputId": "5fb9b543-f01e-4c2f-8cdd-054e9f3b7c13"
      },
      "execution_count": 5,
      "outputs": [
        {
          "output_type": "stream",
          "name": "stdout",
          "text": [
            "[0. 0. 0. 0. 1. 0. 0. 0. 0. 0.]\n"
          ]
        }
      ]
    },
    {
      "cell_type": "code",
      "source": [
        "#05 10~49까지 벡터 생성\n",
        "z = np.arange(10, 50)\n",
        "print(z)"
      ],
      "metadata": {
        "colab": {
          "base_uri": "https://localhost:8080/"
        },
        "id": "UEBsEWN4G_kO",
        "outputId": "74d51e11-f29e-470e-8ad8-8e775b7fcc45"
      },
      "execution_count": 7,
      "outputs": [
        {
          "output_type": "stream",
          "name": "stdout",
          "text": [
            "[10 11 12 13 14 15 16 17 18 19 20 21 22 23 24 25 26 27 28 29 30 31 32 33\n",
            " 34 35 36 37 38 39 40 41 42 43 44 45 46 47 48 49]\n"
          ]
        }
      ]
    },
    {
      "cell_type": "code",
      "source": [
        "#06 0부터 50까지 벡터 생성\n",
        "z = np.arange(50)\n",
        "print(z)"
      ],
      "metadata": {
        "colab": {
          "base_uri": "https://localhost:8080/"
        },
        "id": "pJMc9vDGHILL",
        "outputId": "dd0ee320-cdb2-4577-8e72-a4ece225f351"
      },
      "execution_count": 8,
      "outputs": [
        {
          "output_type": "stream",
          "name": "stdout",
          "text": [
            "[ 0  1  2  3  4  5  6  7  8  9 10 11 12 13 14 15 16 17 18 19 20 21 22 23\n",
            " 24 25 26 27 28 29 30 31 32 33 34 35 36 37 38 39 40 41 42 43 44 45 46 47\n",
            " 48 49]\n"
          ]
        }
      ]
    },
    {
      "cell_type": "code",
      "source": [
        "#07 index 1부터 index 10까지\n",
        "z = np.arange(50)\n",
        "z = z[1:10]\n",
        "print(z)"
      ],
      "metadata": {
        "colab": {
          "base_uri": "https://localhost:8080/"
        },
        "id": "Kcmf3OwzHTd7",
        "outputId": "65a54157-3f79-47c4-c078-a2584421eaf5"
      },
      "execution_count": 10,
      "outputs": [
        {
          "output_type": "stream",
          "name": "stdout",
          "text": [
            "[1 2 3 4 5 6 7 8 9]\n"
          ]
        }
      ]
    },
    {
      "cell_type": "code",
      "source": [
        "#08 index 1부터 index 10까지 2칸 간격으로\n",
        "z = np.arange(50)\n",
        "z = z[1:10:2]\n",
        "print(z)"
      ],
      "metadata": {
        "colab": {
          "base_uri": "https://localhost:8080/"
        },
        "id": "AntTHRUBHj4a",
        "outputId": "19b6b248-c895-4852-dc7c-115080df85bf"
      },
      "execution_count": 12,
      "outputs": [
        {
          "output_type": "stream",
          "name": "stdout",
          "text": [
            "[1 3 5 7 9]\n"
          ]
        }
      ]
    },
    {
      "cell_type": "code",
      "source": [
        "#09 처음부터 끝까지 2칸 간격으로\n",
        "z = np.arange(50)\n",
        "z = z[::2]\n",
        "print(z)"
      ],
      "metadata": {
        "colab": {
          "base_uri": "https://localhost:8080/"
        },
        "id": "yJlmdMSBHveM",
        "outputId": "1bff0617-83f5-4aa4-97a8-eea9048320c9"
      },
      "execution_count": 13,
      "outputs": [
        {
          "output_type": "stream",
          "name": "stdout",
          "text": [
            "[ 0  2  4  6  8 10 12 14 16 18 20 22 24 26 28 30 32 34 36 38 40 42 44 46\n",
            " 48]\n"
          ]
        }
      ]
    },
    {
      "cell_type": "code",
      "source": [
        "#10 10부터 끝까지\n",
        "z = np.arange(50)\n",
        "z = z[10::]\n",
        "print(z)"
      ],
      "metadata": {
        "colab": {
          "base_uri": "https://localhost:8080/"
        },
        "id": "Ibm1Gj-rH7HK",
        "outputId": "74ad63c2-c2cb-462a-84bf-baccae386768"
      },
      "execution_count": 15,
      "outputs": [
        {
          "output_type": "stream",
          "name": "stdout",
          "text": [
            "[10 11 12 13 14 15 16 17 18 19 20 21 22 23 24 25 26 27 28 29 30 31 32 33\n",
            " 34 35 36 37 38 39 40 41 42 43 44 45 46 47 48 49]\n"
          ]
        }
      ]
    },
    {
      "cell_type": "code",
      "source": [
        "#11 1부터 끝까지 2칸 간격으로\n",
        "z = np.arange(50)\n",
        "z = z[1::2]\n",
        "print(z)"
      ],
      "metadata": {
        "colab": {
          "base_uri": "https://localhost:8080/"
        },
        "id": "OKlpTKlRIA0z",
        "outputId": "e5ee5003-e734-4c2e-aa42-909ec61732ae"
      },
      "execution_count": 16,
      "outputs": [
        {
          "output_type": "stream",
          "name": "stdout",
          "text": [
            "[ 1  3  5  7  9 11 13 15 17 19 21 23 25 27 29 31 33 35 37 39 41 43 45 47\n",
            " 49]\n"
          ]
        }
      ]
    },
    {
      "cell_type": "code",
      "source": [
        "#12 처음부터 끄까지 -1칸 간격으로(==역순으로)\n",
        "z = np.arange(50)\n",
        "z = z[::-1]\n",
        "print(z)"
      ],
      "metadata": {
        "colab": {
          "base_uri": "https://localhost:8080/"
        },
        "id": "mDHVhjH3IOqr",
        "outputId": "5089c4ff-a145-4dfd-f916-fbd67ac97922"
      },
      "execution_count": 17,
      "outputs": [
        {
          "output_type": "stream",
          "name": "stdout",
          "text": [
            "[49 48 47 46 45 44 43 42 41 40 39 38 37 36 35 34 33 32 31 30 29 28 27 26\n",
            " 25 24 23 22 21 20 19 18 17 16 15 14 13 12 11 10  9  8  7  6  5  4  3  2\n",
            "  1  0]\n"
          ]
        }
      ]
    },
    {
      "cell_type": "code",
      "source": [
        "#13 3X3 벡터(행렬) 생성\n",
        "z = np.arange(9).reshape(3,3)\n",
        "print(z)"
      ],
      "metadata": {
        "colab": {
          "base_uri": "https://localhost:8080/"
        },
        "id": "wV5B2c22I63r",
        "outputId": "7545d843-6034-4b9e-b7ab-1f5b30e9ce46"
      },
      "execution_count": 20,
      "outputs": [
        {
          "output_type": "stream",
          "name": "stdout",
          "text": [
            "[[0 1 2]\n",
            " [3 4 5]\n",
            " [6 7 8]]\n"
          ]
        }
      ]
    },
    {
      "cell_type": "code",
      "source": [
        "#14 3X3 벡터(행렬) 인덱싱\n",
        "z = np.arange(9).reshape(3,3)\n",
        "z = z[1:3, 0:3]\n",
        "print(z)"
      ],
      "metadata": {
        "colab": {
          "base_uri": "https://localhost:8080/"
        },
        "id": "YYEQJ-gFIb3T",
        "outputId": "964c3c3a-a9c2-4f30-9356-1530229d4a5c"
      },
      "execution_count": 19,
      "outputs": [
        {
          "output_type": "stream",
          "name": "stdout",
          "text": [
            "[[3 4 5]\n",
            " [6 7 8]]\n"
          ]
        }
      ]
    },
    {
      "cell_type": "code",
      "source": [
        "#15 3X3 벡터(행렬) 인덱싱\n",
        "z = np.arange(9).reshape(3,3)\n",
        "z = z[:2, 1:]\n",
        "print(z)"
      ],
      "metadata": {
        "colab": {
          "base_uri": "https://localhost:8080/"
        },
        "id": "y1_UiW9WImcz",
        "outputId": "8d1bc096-f663-4b2b-9ad1-b6b2c1fc1c7e"
      },
      "execution_count": 27,
      "outputs": [
        {
          "output_type": "stream",
          "name": "stdout",
          "text": [
            "[[1 2]\n",
            " [4 5]]\n"
          ]
        }
      ]
    },
    {
      "cell_type": "code",
      "source": [
        "#16 3X3 벡터(행렬) 인덱싱\n",
        "z = np.arange(9).reshape(3,3)\n",
        "z = z[[0,1], 2]\n",
        "print(z)"
      ],
      "metadata": {
        "colab": {
          "base_uri": "https://localhost:8080/"
        },
        "id": "QYWhuzTrJPWT",
        "outputId": "cd6d8e62-20dd-46b8-9eda-a4b9663e2b9a"
      },
      "execution_count": 28,
      "outputs": [
        {
          "output_type": "stream",
          "name": "stdout",
          "text": [
            "[2 5]\n"
          ]
        }
      ]
    },
    {
      "cell_type": "code",
      "source": [
        "#17 3X3 벡터(행렬) 인덱싱\n",
        "z = np.arange(9).reshape(3,3)\n",
        "z = z[[0,1], 0:2]\n",
        "print(z)"
      ],
      "metadata": {
        "colab": {
          "base_uri": "https://localhost:8080/"
        },
        "id": "JHWB__J2JRJ0",
        "outputId": "c15fa0d4-adbc-473b-a022-1bb74e83272e"
      },
      "execution_count": 29,
      "outputs": [
        {
          "output_type": "stream",
          "name": "stdout",
          "text": [
            "[[0 1]\n",
            " [3 4]]\n"
          ]
        }
      ]
    },
    {
      "cell_type": "code",
      "source": [
        "#18 3X3 벡터(행렬) 인덱싱\n",
        "z = np.arange(9).reshape(3,3)\n",
        "z = z[[0,1]]\n",
        "print(z)"
      ],
      "metadata": {
        "colab": {
          "base_uri": "https://localhost:8080/"
        },
        "id": "HWG-w8hlJSTr",
        "outputId": "0c68cb72-8c9f-4e71-9f36-cb08d2504cd3"
      },
      "execution_count": 30,
      "outputs": [
        {
          "output_type": "stream",
          "name": "stdout",
          "text": [
            "[[0 1 2]\n",
            " [3 4 5]]\n"
          ]
        }
      ]
    },
    {
      "cell_type": "code",
      "source": [
        "#19 2X3 벡터(행렬) 생성\n",
        "z = np.arange(6).reshape(2,3)\n",
        "print(z)"
      ],
      "metadata": {
        "colab": {
          "base_uri": "https://localhost:8080/"
        },
        "id": "96A0nR7FJUC8",
        "outputId": "71fcd040-12ab-45e4-e45e-84f911445b27"
      },
      "execution_count": 31,
      "outputs": [
        {
          "output_type": "stream",
          "name": "stdout",
          "text": [
            "[[0 1 2]\n",
            " [3 4 5]]\n"
          ]
        }
      ]
    },
    {
      "cell_type": "code",
      "source": [
        "#20 2X5 벡터(행렬) 생성\n",
        "z = np.arange(10).reshape(2,5)\n",
        "print(z)"
      ],
      "metadata": {
        "colab": {
          "base_uri": "https://localhost:8080/"
        },
        "id": "qGzKTJ8yJX-7",
        "outputId": "441b4d31-00c0-4753-e689-ad5901279d61"
      },
      "execution_count": 32,
      "outputs": [
        {
          "output_type": "stream",
          "name": "stdout",
          "text": [
            "[[0 1 2 3 4]\n",
            " [5 6 7 8 9]]\n"
          ]
        }
      ]
    },
    {
      "cell_type": "code",
      "source": [
        "#21 5X2 벡터(행렬) 생성\n",
        "z = np.arange(10).reshape(5,2)\n",
        "print(z)"
      ],
      "metadata": {
        "colab": {
          "base_uri": "https://localhost:8080/"
        },
        "id": "SKRJBg00JbCb",
        "outputId": "4cd6a80b-9f72-4993-9f87-b13bf1af4964"
      },
      "execution_count": 33,
      "outputs": [
        {
          "output_type": "stream",
          "name": "stdout",
          "text": [
            "[[0 1]\n",
            " [2 3]\n",
            " [4 5]\n",
            " [6 7]\n",
            " [8 9]]\n"
          ]
        }
      ]
    },
    {
      "cell_type": "code",
      "source": [
        "#22 자동x5 벡터(행렬) 생성\n",
        "z = np.arange(10).reshape(-1,5)\n",
        "print(z)"
      ],
      "metadata": {
        "colab": {
          "base_uri": "https://localhost:8080/"
        },
        "id": "PyX0GYGfKbSR",
        "outputId": "17c8d5e9-7607-48cd-fc68-e718cd54324b"
      },
      "execution_count": 38,
      "outputs": [
        {
          "output_type": "stream",
          "name": "stdout",
          "text": [
            "[[0 1 2 3 4]\n",
            " [5 6 7 8 9]]\n"
          ]
        }
      ]
    },
    {
      "cell_type": "code",
      "source": [
        "#23 5x자동 벡터(행렬) 생성\n",
        "z = np.arange(10).reshape(5,-1)\n",
        "print(z)"
      ],
      "metadata": {
        "colab": {
          "base_uri": "https://localhost:8080/"
        },
        "id": "c5g9ujaUKokj",
        "outputId": "a8926b58-4d1d-4fb2-d188-0c3af7c9b996"
      },
      "execution_count": 39,
      "outputs": [
        {
          "output_type": "stream",
          "name": "stdout",
          "text": [
            "[[0 1]\n",
            " [2 3]\n",
            " [4 5]\n",
            " [6 7]\n",
            " [8 9]]\n"
          ]
        }
      ]
    },
    {
      "cell_type": "code",
      "source": [
        "#24 0이 아닌 값들의 index 반환\n",
        "nz = np.nonzero([1,2,0,0,4,0])\n",
        "print(nz)"
      ],
      "metadata": {
        "colab": {
          "base_uri": "https://localhost:8080/"
        },
        "id": "jzst_BG4LaIp",
        "outputId": "d47ba91b-84fd-4900-9aaa-98e5158eb722"
      },
      "execution_count": 40,
      "outputs": [
        {
          "output_type": "stream",
          "name": "stdout",
          "text": [
            "(array([0, 1, 4]),)\n"
          ]
        }
      ]
    },
    {
      "cell_type": "code",
      "source": [
        "#25 2차 단위행렬\n",
        "z = np.eye(2)\n",
        "print(z)"
      ],
      "metadata": {
        "colab": {
          "base_uri": "https://localhost:8080/"
        },
        "id": "-CpcEkPsLm27",
        "outputId": "f57b5c24-094a-4f46-d5f6-df62487fb2cd"
      },
      "execution_count": 41,
      "outputs": [
        {
          "output_type": "stream",
          "name": "stdout",
          "text": [
            "[[1. 0.]\n",
            " [0. 1.]]\n"
          ]
        }
      ]
    },
    {
      "cell_type": "code",
      "source": [
        "#26 3차 단위행렬\n",
        "z = np.eye(3)\n",
        "print(z)"
      ],
      "metadata": {
        "colab": {
          "base_uri": "https://localhost:8080/"
        },
        "id": "qaiKT1saLxnz",
        "outputId": "07ec7a4e-f35b-43a2-f63b-fd7cd373089c"
      },
      "execution_count": 42,
      "outputs": [
        {
          "output_type": "stream",
          "name": "stdout",
          "text": [
            "[[1. 0. 0.]\n",
            " [0. 1. 0.]\n",
            " [0. 0. 1.]]\n"
          ]
        }
      ]
    },
    {
      "cell_type": "code",
      "source": [
        "#27 3x3x3벡터 생성\n",
        "z = np.random.random((3,3,3))\n",
        "print(z)"
      ],
      "metadata": {
        "colab": {
          "base_uri": "https://localhost:8080/"
        },
        "id": "6vHLtVI1L0pz",
        "outputId": "c3b09f9e-b0ae-4b71-9fbb-21ab1f10a36c"
      },
      "execution_count": 44,
      "outputs": [
        {
          "output_type": "stream",
          "name": "stdout",
          "text": [
            "[[[0.82164065 0.74763438 0.05134488]\n",
            "  [0.5785497  0.01946997 0.94870787]\n",
            "  [0.53165369 0.18047704 0.35213592]]\n",
            "\n",
            " [[0.30021754 0.17821918 0.77893237]\n",
            "  [0.863931   0.21612204 0.54795588]\n",
            "  [0.72357308 0.98189376 0.97742777]]\n",
            "\n",
            " [[0.12140311 0.88974842 0.87131527]\n",
            "  [0.77601947 0.63479984 0.49942909]\n",
            "  [0.18251614 0.33457517 0.98813211]]]\n"
          ]
        }
      ]
    },
    {
      "cell_type": "code",
      "source": [
        "#28 10x10 벡터에서 최대, 최솟값\n",
        "z = np.random.random((10,10))\n",
        "z_min, z_max = z.min(), z.max()\n",
        "print(z_min,z_max)"
      ],
      "metadata": {
        "colab": {
          "base_uri": "https://localhost:8080/"
        },
        "id": "MFZW544nL9oi",
        "outputId": "348fbac1-c336-4520-ea96-0d674c640eb3"
      },
      "execution_count": 46,
      "outputs": [
        {
          "output_type": "stream",
          "name": "stdout",
          "text": [
            "0.023098327851765466 0.9971007417160661\n"
          ]
        }
      ]
    },
    {
      "cell_type": "code",
      "source": [
        "#29 벡터 평균\n",
        "z = np.random.random(30)\n",
        "m = z.mean()\n",
        "print(m)"
      ],
      "metadata": {
        "colab": {
          "base_uri": "https://localhost:8080/"
        },
        "id": "WuhkaTM7MUAr",
        "outputId": "f08e4436-8f13-4dc9-d7fd-0f1ae1c90ce8"
      },
      "execution_count": 47,
      "outputs": [
        {
          "output_type": "stream",
          "name": "stdout",
          "text": [
            "0.4476928871801829\n"
          ]
        }
      ]
    },
    {
      "cell_type": "code",
      "source": [
        "#30 10x10 벡터에서 border가 1인 벡터\n",
        "z = np.ones((10, 10))\n",
        "z[1:-1, 1:-1] = 0\n",
        "print(z)"
      ],
      "metadata": {
        "colab": {
          "base_uri": "https://localhost:8080/"
        },
        "id": "9fU010iUMniT",
        "outputId": "3fcd21d7-0a50-40eb-b67a-48deece2f8d3"
      },
      "execution_count": 48,
      "outputs": [
        {
          "output_type": "stream",
          "name": "stdout",
          "text": [
            "[[1. 1. 1. 1. 1. 1. 1. 1. 1. 1.]\n",
            " [1. 0. 0. 0. 0. 0. 0. 0. 0. 1.]\n",
            " [1. 0. 0. 0. 0. 0. 0. 0. 0. 1.]\n",
            " [1. 0. 0. 0. 0. 0. 0. 0. 0. 1.]\n",
            " [1. 0. 0. 0. 0. 0. 0. 0. 0. 1.]\n",
            " [1. 0. 0. 0. 0. 0. 0. 0. 0. 1.]\n",
            " [1. 0. 0. 0. 0. 0. 0. 0. 0. 1.]\n",
            " [1. 0. 0. 0. 0. 0. 0. 0. 0. 1.]\n",
            " [1. 0. 0. 0. 0. 0. 0. 0. 0. 1.]\n",
            " [1. 1. 1. 1. 1. 1. 1. 1. 1. 1.]]\n"
          ]
        }
      ]
    },
    {
      "cell_type": "code",
      "source": [
        "#31 10x10 벡터에서 0,1 체크무늬 벡터\n",
        "z = np.zeros((10,10))\n",
        "z[1::2,::2] = 1\n",
        "z[::2, 1::2] = 1\n",
        "print(z)"
      ],
      "metadata": {
        "colab": {
          "base_uri": "https://localhost:8080/"
        },
        "id": "zKzIItVNM16L",
        "outputId": "119a20fe-f44a-4b85-c679-2ebe17aee7c6"
      },
      "execution_count": 50,
      "outputs": [
        {
          "output_type": "stream",
          "name": "stdout",
          "text": [
            "[[0. 1. 0. 1. 0. 1. 0. 1. 0. 1.]\n",
            " [1. 0. 1. 0. 1. 0. 1. 0. 1. 0.]\n",
            " [0. 1. 0. 1. 0. 1. 0. 1. 0. 1.]\n",
            " [1. 0. 1. 0. 1. 0. 1. 0. 1. 0.]\n",
            " [0. 1. 0. 1. 0. 1. 0. 1. 0. 1.]\n",
            " [1. 0. 1. 0. 1. 0. 1. 0. 1. 0.]\n",
            " [0. 1. 0. 1. 0. 1. 0. 1. 0. 1.]\n",
            " [1. 0. 1. 0. 1. 0. 1. 0. 1. 0.]\n",
            " [0. 1. 0. 1. 0. 1. 0. 1. 0. 1.]\n",
            " [1. 0. 1. 0. 1. 0. 1. 0. 1. 0.]]\n"
          ]
        }
      ]
    },
    {
      "cell_type": "code",
      "source": [
        ""
      ],
      "metadata": {
        "id": "nyjIlF_rNJNT"
      },
      "execution_count": null,
      "outputs": []
    }
  ]
}