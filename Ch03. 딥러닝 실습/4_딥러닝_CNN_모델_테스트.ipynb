{
  "nbformat": 4,
  "nbformat_minor": 0,
  "metadata": {
    "colab": {
      "name": "4.딥러닝 CNN 모델 테스트.ipynb",
      "provenance": [],
      "collapsed_sections": [],
      "mount_file_id": "19SDg2cfrjn2tveGbO1UOFuxHb7fKQE1j",
      "authorship_tag": "ABX9TyOTlnAuG3/kK8uZgwZd/FtL",
      "include_colab_link": true
    },
    "kernelspec": {
      "name": "python3",
      "display_name": "Python 3"
    },
    "language_info": {
      "name": "python"
    }
  },
  "cells": [
    {
      "cell_type": "markdown",
      "metadata": {
        "id": "view-in-github",
        "colab_type": "text"
      },
      "source": [
        "<a href=\"https://colab.research.google.com/github/jongwoo1126/Colab/blob/master/Ch03.%20%EB%94%A5%EB%9F%AC%EB%8B%9D%20%EC%8B%A4%EC%8A%B5/4_%EB%94%A5%EB%9F%AC%EB%8B%9D_CNN_%EB%AA%A8%EB%8D%B8_%ED%85%8C%EC%8A%A4%ED%8A%B8.ipynb\" target=\"_parent\"><img src=\"https://colab.research.google.com/assets/colab-badge.svg\" alt=\"Open In Colab\"/></a>"
      ]
    },
    {
      "cell_type": "code",
      "execution_count": null,
      "metadata": {
        "colab": {
          "base_uri": "https://localhost:8080/",
          "height": 35
        },
        "id": "kNReueMd7RYs",
        "outputId": "b980f97b-8aff-420d-8c05-f873f45d7aec"
      },
      "outputs": [
        {
          "output_type": "execute_result",
          "data": {
            "text/plain": [
              "'2.8.0'"
            ],
            "application/vnd.google.colaboratory.intrinsic+json": {
              "type": "string"
            }
          },
          "metadata": {},
          "execution_count": 32
        }
      ],
      "source": [
        "\"\"\"\n",
        "날짜 : 2022/05/10\n",
        "이름 : 박종우\n",
        "내용 : 딥러닝 CNN 모델 테스트 실습\n",
        "\"\"\"\n",
        "import matplotlib.pyplot as plt\n",
        "import numpy as np\n",
        "import tensorflow as tf\n",
        "from tensorflow.keras.datasets.cifar10 import load_data\n",
        "from tensorflow.keras.models import load_model\n",
        "from tensorflow.keras.utils import to_categorical\n",
        "from tensorflow.keras.preprocessing.image import load_img, img_to_array\n",
        "from sklearn.model_selection import train_test_split\n",
        "from PIL import Image\n",
        "tf.__version__"
      ]
    },
    {
      "cell_type": "code",
      "source": [
        "# 데이터 불러오기\n",
        "(cifar_train_data, cifar_train_label), (cifar_test_data, cifar_test_label) = load_data()"
      ],
      "metadata": {
        "id": "XheAr6wo8Xem"
      },
      "execution_count": null,
      "outputs": []
    },
    {
      "cell_type": "code",
      "source": [
        "# 모델 학습을 위한 데이터 전처리(정규화)\n",
        "cifar_train_data2 = cifar_train_data / 255\n",
        "cifar_test_data2 = cifar_test_data / 255"
      ],
      "metadata": {
        "id": "48Ot0czg8aEv"
      },
      "execution_count": null,
      "outputs": []
    },
    {
      "cell_type": "code",
      "source": [
        "# 데이터 라벨을 범주형(one-hot encoding)으로 변환\n",
        "cifar_train_label2 = to_categorical(cifar_train_label)\n",
        "cifar_test_label2 = to_categorical(cifar_test_label)\n",
        "cifar_train_label2[1]"
      ],
      "metadata": {
        "colab": {
          "base_uri": "https://localhost:8080/"
        },
        "id": "ASdZyyfK8dfm",
        "outputId": "7f12fb03-c75b-42a5-c6a0-601224627605"
      },
      "execution_count": null,
      "outputs": [
        {
          "output_type": "execute_result",
          "data": {
            "text/plain": [
              "array([0., 0., 0., 0., 0., 0., 0., 0., 0., 1.], dtype=float32)"
            ]
          },
          "metadata": {},
          "execution_count": 35
        }
      ]
    },
    {
      "cell_type": "code",
      "source": [
        "# 외부학습모델 불러오기\n",
        "model = load_model('//content/drive/MyDrive/파이썬 데이터 과학 실습/file/cifar_model.h5')"
      ],
      "metadata": {
        "id": "o_GhzXuv8fTe"
      },
      "execution_count": null,
      "outputs": []
    },
    {
      "cell_type": "code",
      "source": [
        "# 모델 테스트\n",
        "result = model.evaluate(cifar_test_data2, cifar_test_label2)\n",
        "result"
      ],
      "metadata": {
        "colab": {
          "base_uri": "https://localhost:8080/"
        },
        "id": "FVCbJXLG8-lG",
        "outputId": "cd8ec517-2237-465a-b0ca-b74467eab704"
      },
      "execution_count": null,
      "outputs": [
        {
          "output_type": "stream",
          "name": "stdout",
          "text": [
            "313/313 [==============================] - 21s 67ms/step - loss: 1.0946 - acc: 0.7642\n"
          ]
        },
        {
          "output_type": "execute_result",
          "data": {
            "text/plain": [
              "[1.0946159362792969, 0.76419997215271]"
            ]
          },
          "metadata": {},
          "execution_count": 37
        }
      ]
    },
    {
      "cell_type": "code",
      "source": [
        "##############################################################################################\n",
        "# 이미지 로드 함수 정의\n",
        "def load_image(filename):\n",
        "\t# load the image\n",
        "\timg = load_img(filename, target_size=(32, 32))\n",
        "\t# convert to array\n",
        "\timg = img_to_array(img)\n",
        "\t# reshape into a single sample with 3 channels\n",
        "\timg = img.reshape(1, 32, 32, 3)\n",
        "\t# prepare pixel data\n",
        "\timg = img.astype('float32')\n",
        "\timg = img / 255.0\n",
        "\treturn img"
      ],
      "metadata": {
        "id": "oMK2OeSiBHhO"
      },
      "execution_count": null,
      "outputs": []
    },
    {
      "cell_type": "code",
      "source": [
        "img = load_image('/content/drive/MyDrive/파이썬 데이터 과학 실습/file/frog.jpg')\n",
        "img"
      ],
      "metadata": {
        "colab": {
          "base_uri": "https://localhost:8080/"
        },
        "id": "6__1xEkQB80F",
        "outputId": "605b00cc-051a-46e3-b7e6-46e835f62e8d"
      },
      "execution_count": null,
      "outputs": [
        {
          "output_type": "execute_result",
          "data": {
            "text/plain": [
              "array([[[[0.3647059 , 0.46666667, 0.21960784],\n",
              "         [0.3019608 , 0.4117647 , 0.10980392],\n",
              "         [0.3019608 , 0.43137255, 0.07450981],\n",
              "         ...,\n",
              "         [0.39215687, 0.5058824 , 0.19215687],\n",
              "         [0.32941177, 0.4392157 , 0.14901961],\n",
              "         [0.28627452, 0.39607844, 0.10588235]],\n",
              "\n",
              "        [[0.3882353 , 0.49019608, 0.23529412],\n",
              "         [0.36862746, 0.48235294, 0.16862746],\n",
              "         [0.33333334, 0.4627451 , 0.11372549],\n",
              "         ...,\n",
              "         [0.3372549 , 0.4392157 , 0.15294118],\n",
              "         [0.31764707, 0.41960785, 0.13333334],\n",
              "         [0.30980393, 0.40392157, 0.09803922]],\n",
              "\n",
              "        [[0.3764706 , 0.47843137, 0.22352941],\n",
              "         [0.3647059 , 0.47843137, 0.16470589],\n",
              "         [0.30980393, 0.42352942, 0.09411765],\n",
              "         ...,\n",
              "         [0.31764707, 0.40392157, 0.16078432],\n",
              "         [0.31764707, 0.4       , 0.13725491],\n",
              "         [0.3254902 , 0.4117647 , 0.09019608]],\n",
              "\n",
              "        ...,\n",
              "\n",
              "        [[0.37254903, 0.45490196, 0.19215687],\n",
              "         [0.36862746, 0.41960785, 0.21176471],\n",
              "         [0.38039216, 0.42352942, 0.26666668],\n",
              "         ...,\n",
              "         [0.37254903, 0.49019608, 0.24705882],\n",
              "         [0.40784314, 0.5058824 , 0.24705882],\n",
              "         [0.43137255, 0.49411765, 0.23921569]],\n",
              "\n",
              "        [[0.5529412 , 0.654902  , 0.3764706 ],\n",
              "         [0.44313726, 0.50980395, 0.29411766],\n",
              "         [0.3529412 , 0.4117647 , 0.2509804 ],\n",
              "         ...,\n",
              "         [0.32941177, 0.43137255, 0.14509805],\n",
              "         [0.38431373, 0.4745098 , 0.16862746],\n",
              "         [0.43529412, 0.5058824 , 0.21568628]],\n",
              "\n",
              "        [[0.33333334, 0.42352942, 0.14901961],\n",
              "         [0.43137255, 0.49803922, 0.28235295],\n",
              "         [0.45490196, 0.5058824 , 0.33333334],\n",
              "         ...,\n",
              "         [0.38039216, 0.4745098 , 0.12941177],\n",
              "         [0.42352942, 0.5019608 , 0.16078432],\n",
              "         [0.45490196, 0.5294118 , 0.21960784]]]], dtype=float32)"
            ]
          },
          "metadata": {},
          "execution_count": 40
        }
      ]
    },
    {
      "cell_type": "code",
      "source": [
        "# 이미지 모델 테스트\n",
        "result = model.predict(img)\n",
        "result.round()"
      ],
      "metadata": {
        "colab": {
          "base_uri": "https://localhost:8080/"
        },
        "id": "yrwOtLq89zfm",
        "outputId": "1660f17e-1a39-41a1-c4f3-422916e3d5ae"
      },
      "execution_count": null,
      "outputs": [
        {
          "output_type": "execute_result",
          "data": {
            "text/plain": [
              "array([[0., 0., 0., 0., 0., 0., 1., 0., 0., 0.]], dtype=float32)"
            ]
          },
          "metadata": {},
          "execution_count": 43
        }
      ]
    },
    {
      "cell_type": "code",
      "source": [
        ""
      ],
      "metadata": {
        "id": "P1JZPwjt-ENG"
      },
      "execution_count": null,
      "outputs": []
    }
  ]
}